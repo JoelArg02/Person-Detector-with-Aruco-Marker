{
 "cells": [
  {
   "cell_type": "code",
   "execution_count": 2,
   "metadata": {},
   "outputs": [
    {
     "name": "stdout",
     "output_type": "stream",
     "text": [
      "Esperando conexión del cliente...\n",
      "Conectado a ('127.0.0.1', 59477)\n"
     ]
    },
    {
     "ename": "ConnectionResetError",
     "evalue": "[WinError 10054] Se ha forzado la interrupción de una conexión existente por el host remoto",
     "output_type": "error",
     "traceback": [
      "\u001b[1;31m---------------------------------------------------------------------------\u001b[0m",
      "\u001b[1;31mConnectionResetError\u001b[0m                      Traceback (most recent call last)",
      "Cell \u001b[1;32mIn[2], line 72\u001b[0m\n\u001b[0;32m     69\u001b[0m     \u001b[38;5;28;01melse\u001b[39;00m:\n\u001b[0;32m     70\u001b[0m         response \u001b[38;5;241m=\u001b[39m \u001b[38;5;124m\"\u001b[39m\u001b[38;5;124mno_person_detected\u001b[39m\u001b[38;5;124m\"\u001b[39m\n\u001b[1;32m---> 72\u001b[0m     \u001b[43mclient_socket\u001b[49m\u001b[38;5;241;43m.\u001b[39;49m\u001b[43msendall\u001b[49m\u001b[43m(\u001b[49m\u001b[43mresponse\u001b[49m\u001b[38;5;241;43m.\u001b[39;49m\u001b[43mencode\u001b[49m\u001b[43m(\u001b[49m\u001b[43m)\u001b[49m\u001b[43m)\u001b[49m\n\u001b[0;32m     74\u001b[0m \u001b[38;5;66;03m# Cierre de la conexión\u001b[39;00m\n\u001b[0;32m     75\u001b[0m client_socket\u001b[38;5;241m.\u001b[39mclose()\n",
      "\u001b[1;31mConnectionResetError\u001b[0m: [WinError 10054] Se ha forzado la interrupción de una conexión existente por el host remoto"
     ]
    }
   ],
   "source": [
    "import socket\n",
    "import cv2\n",
    "import numpy as np\n",
    "import tensorflow as tf\n",
    "import tensorflow_hub as hub\n",
    "\n",
    "server_socket = socket.socket(socket.AF_INET, socket.SOCK_STREAM)\n",
    "server_socket.bind(('127.0.0.1', 8080))\n",
    "server_socket.listen(1)\n",
    "print(\"Esperando conexión del cliente...\")\n",
    "\n",
    "client_socket, addr = server_socket.accept()\n",
    "print(f\"Conectado a {addr}\")\n",
    "\n",
    "# Cargar el modelo de detección de personas\n",
    "model = hub.load(\"https://tfhub.dev/tensorflow/ssd_mobilenet_v2/2\")\n",
    "\n",
    "def detect_people(image):\n",
    "    input_tensor = cv2.resize(image, (300, 300))\n",
    "    input_tensor = np.expand_dims(input_tensor, axis=0)\n",
    "\n",
    "    tensor = tf.convert_to_tensor(input_tensor, dtype=tf.uint8)\n",
    "\n",
    "    detections = model(tensor)\n",
    "\n",
    "    detection_boxes = detections['detection_boxes'][0].numpy()\n",
    "    detection_scores = detections['detection_scores'][0].numpy()\n",
    "    detection_classes = detections['detection_classes'][0].numpy()\n",
    "\n",
    "    person_boxes = detection_boxes[detection_classes == 1]\n",
    "    person_scores = detection_scores[detection_classes == 1]\n",
    "\n",
    "    valid_boxes = person_boxes[person_scores > 0.5]\n",
    "\n",
    "    people_coordinates = []\n",
    "    if len(valid_boxes) > 0:\n",
    "        h, w, _ = image.shape\n",
    "        for box in valid_boxes:\n",
    "            y_min, x_min, y_max, x_max = box\n",
    "            x_min, x_max, y_min, y_max = int(x_min * w), int(x_max * w), int(y_min * h), int(y_max * h)\n",
    "            people_coordinates.append((x_min, y_min, x_max, y_max))\n",
    "\n",
    "    return people_coordinates if people_coordinates else None\n",
    "\n",
    "while True:\n",
    "    img_size_data = client_socket.recv(4)\n",
    "    if not img_size_data:\n",
    "        break\n",
    "    img_size = int.from_bytes(img_size_data, byteorder='little')\n",
    "\n",
    "    img_data = b''\n",
    "    while len(img_data) < img_size:\n",
    "        packet = client_socket.recv(4096)\n",
    "        if not packet:\n",
    "            break\n",
    "        img_data += packet\n",
    "\n",
    "    nparr = np.frombuffer(img_data, np.uint8)\n",
    "    frame = cv2.imdecode(nparr, cv2.IMREAD_COLOR)\n",
    "\n",
    "    results = detect_people(frame)\n",
    "    if results:\n",
    "        coordinates_str = [f\"{x_min},{y_min},{x_max},{y_max}\" for x_min, y_min, x_max, y_max in results]\n",
    "        response = \";\".join(coordinates_str)\n",
    "    else:\n",
    "        response = \"no_person_detected\"\n",
    "\n",
    "    client_socket.sendall(response.encode())\n",
    "\n",
    "client_socket.close()\n",
    "server_socket.close()\n"
   ]
  }
 ],
 "metadata": {
  "kernelspec": {
   "display_name": "Python 3",
   "language": "python",
   "name": "python3"
  },
  "language_info": {
   "codemirror_mode": {
    "name": "ipython",
    "version": 3
   },
   "file_extension": ".py",
   "mimetype": "text/x-python",
   "name": "python",
   "nbconvert_exporter": "python",
   "pygments_lexer": "ipython3",
   "version": "3.12.5"
  }
 },
 "nbformat": 4,
 "nbformat_minor": 2
}
